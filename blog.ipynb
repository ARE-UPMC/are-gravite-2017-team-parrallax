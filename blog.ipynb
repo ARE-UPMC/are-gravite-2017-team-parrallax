{
 "cells": [
  {
   "cell_type": "markdown",
   "metadata": {},
   "source": [
    "# La Parallaxe de Mars \n",
    "## Etudiants: Tanguy Fremont, Yavuz Ergun, Mickael De Andrade, Guy\n"
   ]
  },
  {
   "cell_type": "markdown",
   "metadata": {},
   "source": [
    "### Semaine 1\n",
    "Lors de la premiere semaine on ne savais pas comment si prendre, qui allait s'occuper de la partie physique et de la partie \n"
    "informatique mais on a discuter savoir qui prefererais s'occuper du programme et qui prefererais expliquer le sujet. Cela était\n"
    "compliquer puisque Mickael n'était pas la premiere semaine mais on a quand meme pu echanger et trouver un accord. Alors pour la \n"
    "### Semaine 2\n",
    "Bla bla\n",
    "### Semaine 3\n",
    "Bla Bla\n",
    "### Semaine 4\n",
    "Bla Bla"
   ]
  }
 ],
 "metadata": {
  "kernelspec": {
   "display_name": "Python 3",
   "language": "python",
   "name": "python3"
  },
  "language_info": {
   "codemirror_mode": {
    "name": "ipython",
    "version": 3
   },
   "file_extension": ".py",
   "mimetype": "text/x-python",
   "name": "python",
   "nbconvert_exporter": "python",
   "pygments_lexer": "ipython3",
   "version": "3.6.0"
  }
 },
 "nbformat": 4,
 "nbformat_minor": 2
}
